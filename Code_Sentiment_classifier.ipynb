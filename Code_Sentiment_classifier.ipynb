{
 "cells": [
  {
   "cell_type": "markdown",
   "metadata": {},
   "source": [
    "# CT5133 - Deep Learning Assignment: 2\n",
    "\n",
    "\n",
    "#### Group Member 1: Seshadri Sundarrajan (19230107)        \n",
    "#### Group Member 2: Manish Agarwal\t (19230064)\n",
    "\n"
   ]
  },
  {
   "cell_type": "markdown",
   "metadata": {},
   "source": [
    "Data Source : https://ai.stanford.edu/~amaas/data/sentiment/"
   ]
  },
  {
   "cell_type": "markdown",
   "metadata": {},
   "source": [
    "### Work Split up\n",
    " \n",
    "#### Seshadri Sundarrajan:\n",
    "\n",
    "•\tPre-processing: Naïve Bayes\n",
    "\n",
    "•\tModel construction & Evaluation: LSTM\n",
    "\n",
    "\n",
    "####  Manish Agarwal\n",
    "\n",
    "•\tPre-processing: LSTM\n",
    "\n",
    "•\tModel construction & Evaluation: Naïve Bayes\n",
    "\n",
    "\n",
    "Note: Coding part is done as per the above-mentioned split up.\n"
   ]
  },
  {
   "cell_type": "code",
   "execution_count": 107,
   "metadata": {},
   "outputs": [],
   "source": [
    "import os\n",
    "\n",
    "# Get current working directory\n",
    "pwd = os.getcwd()\n",
    "\n",
    "# Links to positive and negative train data\n",
    "pos_train_data_dir = pwd + '\\\\aclImdb\\\\train\\\\pos'\n",
    "neg_train_data_dir = pwd + '\\\\aclImdb\\\\train\\\\neg'\n",
    "pos_test_data_dir = pwd + '\\\\aclImdb\\\\test\\\\pos'\n",
    "neg_test_data_dir = pwd + '\\\\aclImdb\\\\test\\\\neg'"
   ]
  },
  {
   "cell_type": "markdown",
   "metadata": {},
   "source": [
    "#### Data pre-processing helper functions"
   ]
  },
  {
   "cell_type": "code",
   "execution_count": 108,
   "metadata": {},
   "outputs": [],
   "source": [
    "import string\n",
    "from nltk.stem import PorterStemmer \n",
    "from nltk.tokenize import word_tokenize \n",
    "from gensim.parsing.preprocessing import remove_stopwords\n",
    "\n",
    "# Stemmer object\n",
    "p_stem = PorterStemmer() \n",
    "\n",
    "\n",
    "def get_review_lst(path):\n",
    "    'Function to read all reviews from the folder and return a list'\n",
    "    reviews_op = []\n",
    "    for review in os.listdir(path):\n",
    "        with open(path+'\\\\'+review,encoding=\"utf8\") as review: # convert the reviews to utf -8 encoding  format\n",
    "            reviews_op.append(review.read())\n",
    "    return reviews_op\n",
    "\n",
    "def text_cleaning(ip_review_lst):\n",
    "    'Function to clean the text by removing special characters / escape sequence / punctuation and converts to lower'\n",
    "    op_review_lst = []\n",
    "    for review in ip_review_lst:\n",
    "        review = review.replace('<br />','').replace(',',' ').replace('-',' ') # Reviews have new line as <br /> \n",
    "        review = review.translate(str.maketrans(' ', ' ', string.punctuation)).lower() # remove punctuations & make lowercase\n",
    "        op_review_lst.append(review)\n",
    "    return op_review_lst\n",
    "\n",
    "def get_stem(reviews_lst):\n",
    "    'Function to stem the reviews and remove the stop word'\n",
    "    reviews_lst_op = []\n",
    "    for review in reviews_lst:\n",
    "        stemmed_review = ''\n",
    "        words = word_tokenize(remove_stopwords(review)) # remove stopwards\n",
    "        for token in words: \n",
    "            stemmed_review += ' ' + p_stem.stem(token) # stem the word\n",
    "        reviews_lst_op.append(stemmed_review)\n",
    "    return reviews_lst_op  \n",
    "\n",
    "# Putting all together\n",
    "def text_preprocess(path,stem=True):\n",
    "    '''Function that performs all the neccesary pre processing my calling the above define functions,\n",
    "    stem parameter is used becaused for lstm we dont stem'''\n",
    "    reviews = get_review_lst(path)\n",
    "    reviews = text_cleaning(reviews)\n",
    "    if stem :\n",
    "        reviews = get_stem(reviews)\n",
    "    return reviews\n"
   ]
  },
  {
   "cell_type": "markdown",
   "metadata": {},
   "source": [
    "Training data gathering "
   ]
  },
  {
   "cell_type": "code",
   "execution_count": 112,
   "metadata": {},
   "outputs": [],
   "source": [
    "# Train labels generation - 0 & 1 for polarities\n",
    "train_labels = ('1 '*25000).split()\n",
    "train_labels.extend(('0 '*25000).split())\n",
    "train_labels = [int(label) for label in train_labels]\n"
   ]
  },
  {
   "cell_type": "code",
   "execution_count": 110,
   "metadata": {},
   "outputs": [],
   "source": [
    "positive_reviews = text_preprocess(pos_train_data_dir,stem=True) # Positive reviews\n",
    "positive_reviews.extend(text_preprocess(pos_test_data_dir,stem=True))\n",
    "negative_reviews = text_preprocess(neg_train_data_dir,stem=True) # Negative reviews\n",
    "negative_reviews.extend(text_preprocess(neg_test_data_dir,stem=True))\n",
    "\n",
    "# Combining both positive and negative reviews\n",
    "train_reviews= positive_reviews.copy()\n",
    "train_reviews.extend(negative_reviews)"
   ]
  },
  {
   "cell_type": "markdown",
   "metadata": {},
   "source": [
    "### Bag of words"
   ]
  },
  {
   "cell_type": "code",
   "execution_count": 121,
   "metadata": {},
   "outputs": [],
   "source": [
    "from sklearn.feature_extraction.text import CountVectorizer\n",
    "import numpy as np\n",
    "\n",
    "# Count vectorizer with max of 5000 words\n",
    "vectorizer = CountVectorizer(max_features=7500).fit(train_reviews)\n",
    "\n",
    "# Bag of words representation\n",
    "bag_of_words = vectorizer.transform(train_reviews)\n",
    "\n",
    "# x & y data for sentiment analysis\n",
    "x = bag_of_words.todense()\n",
    "y = np.array(train_labels)"
   ]
  },
  {
   "cell_type": "markdown",
   "metadata": {},
   "source": [
    "### Naive Bayes - Multinomial"
   ]
  },
  {
   "cell_type": "code",
   "execution_count": 122,
   "metadata": {},
   "outputs": [],
   "source": [
    "from sklearn.model_selection import train_test_split\n",
    "\n",
    "# Test train split\n",
    "x_train, x_test, y_train, y_test = train_test_split(x, y, test_size = 0.30, random_state = 0)"
   ]
  },
  {
   "cell_type": "code",
   "execution_count": 123,
   "metadata": {},
   "outputs": [
    {
     "data": {
      "text/plain": [
       "MultinomialNB(alpha=1.0, class_prior=None, fit_prior=True)"
      ]
     },
     "execution_count": 123,
     "metadata": {},
     "output_type": "execute_result"
    }
   ],
   "source": [
    "from sklearn.naive_bayes import MultinomialNB\n",
    "\n",
    "classifier_nb = MultinomialNB()\n",
    "classifier_nb.fit(x_train, y_train)"
   ]
  },
  {
   "cell_type": "markdown",
   "metadata": {},
   "source": [
    "##### Cross validation"
   ]
  },
  {
   "cell_type": "code",
   "execution_count": 116,
   "metadata": {},
   "outputs": [
    {
     "name": "stdout",
     "output_type": "stream",
     "text": [
      "Mean Accuracy for k(10)- fold cross validation = 84.149%\n"
     ]
    }
   ],
   "source": [
    "from sklearn.model_selection import cross_val_score,cross_val_predict\n",
    "accuracies_xg = cross_val_score(estimator = classifier_nb, X = x_train, y = y_train, cv = 10)\n",
    "print('Mean Accuracy for k(10)- fold cross validation = {}%'.format(round(accuracies_xg.mean()*100,3)))"
   ]
  },
  {
   "cell_type": "markdown",
   "metadata": {},
   "source": [
    "#### Model Evaluation"
   ]
  },
  {
   "cell_type": "code",
   "execution_count": 124,
   "metadata": {},
   "outputs": [
    {
     "name": "stdout",
     "output_type": "stream",
     "text": [
      "Test Accuracy = 83.94%\n"
     ]
    }
   ],
   "source": [
    "from sklearn.metrics import confusion_matrix\n",
    "from sklearn import metrics\n",
    "\n",
    "y_pred_nb = classifier_nb.predict(x_test)\n",
    "cm_nb = confusion_matrix(y_test,y_pred_nb)\n",
    "print('Test Accuracy = {}%'.format(float(metrics.accuracy_score(y_test, y_pred_nb))*100))"
   ]
  },
  {
   "cell_type": "markdown",
   "metadata": {},
   "source": [
    "Confusion Matrix"
   ]
  },
  {
   "cell_type": "code",
   "execution_count": 125,
   "metadata": {},
   "outputs": [
    {
     "data": {
      "text/plain": [
       "Text(0.5, 1, 'Confusion Matrix of Multinomial Naive Bayes Classifier')"
      ]
     },
     "execution_count": 125,
     "metadata": {},
     "output_type": "execute_result"
    },
    {
     "data": {
      "image/png": "[encoded data removed]",
      "text/plain": [
       "<Figure size 432x288 with 2 Axes>"
      ]
     },
     "metadata": {},
     "output_type": "display_data"
    }
   ],
   "source": [
    "import seaborn as sns\n",
    "import pandas as pd\n",
    "import matplotlib.pyplot as plt\n",
    "sns.set()\n",
    "\n",
    "sns.heatmap(pd.DataFrame(cm_nb / cm_nb.sum(axis=1),index = ['pos','Neg'], columns = ['pos','Neg']),cmap = 'Blues',annot=True)\n",
    "plt.title('Confusion Matrix of Multinomial Naive Bayes Classifier')"
   ]
  },
  {
   "cell_type": "markdown",
   "metadata": {},
   "source": [
    "Classification Report"
   ]
  },
  {
   "cell_type": "code",
   "execution_count": 126,
   "metadata": {},
   "outputs": [
    {
     "name": "stdout",
     "output_type": "stream",
     "text": [
      "              precision    recall  f1-score   support\n",
      "\n",
      "    positive       0.83      0.85      0.84      7442\n",
      "    negative       0.85      0.83      0.84      7558\n",
      "\n",
      "    accuracy                           0.84     15000\n",
      "   macro avg       0.84      0.84      0.84     15000\n",
      "weighted avg       0.84      0.84      0.84     15000\n",
      "\n"
     ]
    }
   ],
   "source": [
    "from sklearn.metrics import classification_report\n",
    "print(classification_report(y_test, y_pred_nb, target_names=['positive', 'negative']))"
   ]
  },
  {
   "cell_type": "markdown",
   "metadata": {},
   "source": [
    "### Neural Network - Approach"
   ]
  },
  {
   "cell_type": "code",
   "execution_count": 131,
   "metadata": {},
   "outputs": [],
   "source": [
    "from keras.datasets import imdb\n",
    "from tensorflow.keras.models import Sequential\n",
    "from tensorflow.keras.preprocessing.text import Tokenizer\n",
    "from tensorflow.keras.preprocessing.sequence import pad_sequences\n",
    "from sklearn.model_selection import train_test_split\n",
    "from keras.utils.np_utils import to_categorical\n",
    "from tensorflow.keras.layers import Dense, Embedding, LSTM, Dropout\n",
    "import numpy as np\n",
    "import tensorflow.compat.v1 as tf_v1"
   ]
  },
  {
   "cell_type": "markdown",
   "metadata": {},
   "source": [
    "Data Gathering"
   ]
  },
  {
   "cell_type": "code",
   "execution_count": 149,
   "metadata": {},
   "outputs": [],
   "source": [
    "# Reading the data and just cleaning it ** not doing stemming and stopwords removal **\n",
    "\n",
    "positive_reviews_rnn = text_preprocess(pos_train_data_dir,stem=False) # Positive reviews\n",
    "positive_reviews_rnn.extend(text_preprocess(pos_test_data_dir,stem=False))\n",
    "negative_reviews_rnn = text_preprocess(neg_train_data_dir,stem=False) # Negative reviews\n",
    "negative_reviews_rnn.extend(text_preprocess(neg_test_data_dir,stem=False))\n",
    "\n",
    "# Combining both positive and negative reviews\n",
    "train_reviews= positive_reviews_rnn.copy()\n",
    "train_reviews.extend(negative_reviews_rnn)"
   ]
  },
  {
   "cell_type": "markdown",
   "metadata": {},
   "source": [
    "Sequence Tokenizer and Test / Train split"
   ]
  },
  {
   "cell_type": "code",
   "execution_count": 150,
   "metadata": {},
   "outputs": [],
   "source": [
    "# Keras tokenizer to get the top 5000 words\n",
    "\n",
    "tokenizer = Tokenizer(num_words = 7500, split=' ')\n",
    "tokenizer.fit_on_texts(train_reviews)\n",
    "\n",
    "# Convert the tokenizer as per the sequencial norms\n",
    "\n",
    "X = tokenizer.texts_to_sequences(train_reviews)\n",
    "X = pad_sequences(X)\n",
    "\n",
    "Y = train_labels\n",
    "\n",
    "# Test train split\n",
    "x_train, x_test, y_train, y_test = train_test_split(X,np.array(Y), test_size = 0.30, random_state = 0)"
   ]
  },
  {
   "cell_type": "markdown",
   "metadata": {},
   "source": [
    "Sequence Padding - constant input length"
   ]
  },
  {
   "cell_type": "code",
   "execution_count": 151,
   "metadata": {},
   "outputs": [
    {
     "data": {
      "text/plain": [
       "(50000, 2054)"
      ]
     },
     "execution_count": 151,
     "metadata": {},
     "output_type": "execute_result"
    }
   ],
   "source": [
    "from keras.preprocessing import sequence\n",
    "\n",
    "# Adjustig review lengths to 500  - Truncating / padding accordingly\n",
    "x_train = sequence.pad_sequences(x_train, maxlen=500)\n",
    "x_test = sequence.pad_sequences(x_test, maxlen=500)\n",
    "\n",
    "X.shape"
   ]
  },
  {
   "cell_type": "markdown",
   "metadata": {},
   "source": [
    "### LSTM model"
   ]
  },
  {
   "cell_type": "code",
   "execution_count": 152,
   "metadata": {},
   "outputs": [
    {
     "name": "stdout",
     "output_type": "stream",
     "text": [
      "Train on 35000 samples\n",
      "Epoch 1/10\n",
      "35000/35000 [==============================] - 6s 177us/sample - loss: 0.6730 - accuracy: 0.6160\n",
      "Epoch 2/10\n",
      "35000/35000 [==============================] - 4s 107us/sample - loss: 0.5497 - accuracy: 0.7805\n",
      "Epoch 3/10\n",
      "35000/35000 [==============================] - 4s 106us/sample - loss: 0.4399 - accuracy: 0.8299\n",
      "Epoch 4/10\n",
      "35000/35000 [==============================] - 4s 107us/sample - loss: 0.3214 - accuracy: 0.8727\n",
      "Epoch 5/10\n",
      "35000/35000 [==============================] - 4s 108us/sample - loss: 0.2501 - accuracy: 0.9029\n",
      "Epoch 6/10\n",
      "35000/35000 [==============================] - 4s 106us/sample - loss: 0.2155 - accuracy: 0.9207\n",
      "Epoch 7/10\n",
      "35000/35000 [==============================] - 4s 106us/sample - loss: 0.1940 - accuracy: 0.9296\n",
      "Epoch 8/10\n",
      "35000/35000 [==============================] - 4s 106us/sample - loss: 0.1812 - accuracy: 0.9351\n",
      "Epoch 9/10\n",
      "35000/35000 [==============================] - 4s 106us/sample - loss: 0.1744 - accuracy: 0.9383\n",
      "Epoch 10/10\n",
      "35000/35000 [==============================] - 4s 106us/sample - loss: 0.1600 - accuracy: 0.9438 - loss: 0.1599 - accuracy: \n",
      "Accuracy of the model = 88.64%\n"
     ]
    }
   ],
   "source": [
    "# LSTM model\n",
    "\n",
    "# Setting random seed --> need to use tensor flow seed as its the backend not numpy\n",
    "tf_v1.set_random_seed(100)\n",
    "\n",
    "\n",
    "\n",
    "' Input --> Word embedding --> LSTM --> sigmoid'\n",
    "\n",
    "seq_model = Sequential()\n",
    "seq_model.add(Embedding(input_dim = 7500, output_dim =25 ,input_length = 500))\n",
    "seq_model.add(Dropout(0.3)) # Dropout layer to overcome overfitting\n",
    "seq_model.add(LSTM(units = 50))\n",
    "seq_model.add(Dropout(0.3))\n",
    "seq_model.add(Dense(units  = 1,activation='sigmoid')) # output layer\n",
    "\n",
    "seq_model.compile(loss = 'binary_crossentropy', optimizer='adam',metrics = ['accuracy'])\n",
    "\n",
    "# Model fit\n",
    "seq_model.fit(x_train, y_train, epochs=10, batch_size=1000,verbose=1)\n",
    "\n",
    "# Model Accuracy\n",
    "acc = seq_model.evaluate(x_test, y_test, verbose=0)[1]\n",
    "print('Accuracy of the model = {}%'.format(round(acc*100,2)))"
   ]
  },
  {
   "cell_type": "code",
   "execution_count": 154,
   "metadata": {},
   "outputs": [
    {
     "name": "stdout",
     "output_type": "stream",
     "text": [
      "Model: \"sequential_15\"\n",
      "_________________________________________________________________\n",
      "Layer (type)                 Output Shape              Param #   \n",
      "=================================================================\n",
      "embedding_15 (Embedding)     (None, 500, 25)           187500    \n",
      "_________________________________________________________________\n",
      "dropout_30 (Dropout)         (None, 500, 25)           0         \n",
      "_________________________________________________________________\n",
      "lstm_15 (LSTM)               (None, 50)                15200     \n",
      "_________________________________________________________________\n",
      "dropout_31 (Dropout)         (None, 50)                0         \n",
      "_________________________________________________________________\n",
      "dense_16 (Dense)             (None, 1)                 51        \n",
      "=================================================================\n",
      "Total params: 202,751\n",
      "Trainable params: 202,751\n",
      "Non-trainable params: 0\n",
      "_________________________________________________________________\n"
     ]
    }
   ],
   "source": [
    "seq_model.summary()\n"
   ]
  },
  {
   "cell_type": "markdown",
   "metadata": {},
   "source": [
    "Model evaluation"
   ]
  },
  {
   "cell_type": "code",
   "execution_count": 155,
   "metadata": {},
   "outputs": [],
   "source": [
    "y_prob = seq_model.predict(x_test) \n",
    "y_pred_lstm = (y_prob > 0.5).astype(int).transpose().tolist()[0]\n",
    "\n",
    "from sklearn.metrics import confusion_matrix\n",
    "from sklearn import metrics\n",
    "\n",
    "\n",
    "cm_lstm = confusion_matrix(y_test,y_pred_lstm)"
   ]
  },
  {
   "cell_type": "markdown",
   "metadata": {},
   "source": [
    "Confusion Matrix"
   ]
  },
  {
   "cell_type": "code",
   "execution_count": 156,
   "metadata": {},
   "outputs": [
    {
     "data": {
      "text/plain": [
       "Text(0.5, 1, 'Confusion Matrix of LSTM')"
      ]
     },
     "execution_count": 156,
     "metadata": {},
     "output_type": "execute_result"
    },
    {
     "data": {
      "image/png": "[encoded data removed]",
      "text/plain": [
       "<Figure size 432x288 with 2 Axes>"
      ]
     },
     "metadata": {},
     "output_type": "display_data"
    }
   ],
   "source": [
    "import seaborn as sns\n",
    "import pandas as pd\n",
    "import matplotlib.pyplot as plt\n",
    "sns.set()\n",
    "\n",
    "sns.heatmap(pd.DataFrame(cm_lstm / cm_lstm.sum(axis=1),index = ['pos','Neg'], columns = ['pos','Neg']),cmap = 'Blues',annot=True)\n",
    "plt.title('Confusion Matrix of LSTM')"
   ]
  },
  {
   "cell_type": "markdown",
   "metadata": {},
   "source": [
    "Classification Report"
   ]
  },
  {
   "cell_type": "code",
   "execution_count": 157,
   "metadata": {},
   "outputs": [
    {
     "name": "stdout",
     "output_type": "stream",
     "text": [
      "              precision    recall  f1-score   support\n",
      "\n",
      "    positive       0.88      0.89      0.89      7442\n",
      "    negative       0.89      0.88      0.89      7558\n",
      "\n",
      "    accuracy                           0.89     15000\n",
      "   macro avg       0.89      0.89      0.89     15000\n",
      "weighted avg       0.89      0.89      0.89     15000\n",
      "\n"
     ]
    }
   ],
   "source": [
    "from sklearn.metrics import classification_report\n",
    "print(classification_report(y_test, y_pred_lstm, target_names=['positive', 'negative']))"
   ]
  },
  {
   "cell_type": "markdown",
   "metadata": {},
   "source": [
    "### Model Evaluation based on unseen events"
   ]
  },
  {
   "cell_type": "code",
   "execution_count": 173,
   "metadata": {},
   "outputs": [
    {
     "name": "stdout",
     "output_type": "stream",
     "text": [
      "LSTM polarity score for the review is : 0.49000000953674316\n",
      "Naive Bayes polarity score for the review is : 0.808\n"
     ]
    }
   ],
   "source": [
    "# LSTM\n",
    "\n",
    "rev = ['A movie of a cynicism so vast and pervasive as to render the viewing experience even emptier than its slapdash aesthetic does.']\n",
    "\n",
    "test_rev = text_cleaning(rev)\n",
    "\n",
    "test_rev = tokenizer.texts_to_sequences(test_rev)\n",
    "test_rev = pad_sequences(test_rev)\n",
    "test_rev = sequence.pad_sequences(test_rev, maxlen=500)\n",
    "\n",
    "print('LSTM polarity score for the review is : {}'.format(round(seq_model.predict(test_rev)[0][0],2)))\n",
    "\n",
    "\n",
    "# Naive Bayes\n",
    "test_rev = text_cleaning(rev)\n",
    "test_rev = get_stem(test_rev)\n",
    "test_rev = vectorizer.transform(test_rev)\n",
    "\n",
    "\n",
    "print('Naive Bayes polarity score for the review is : {}'.format(round(classifier_nb.predict_proba(test_rev)[0][1],3)))"
   ]
  },
  {
   "cell_type": "markdown",
   "metadata": {},
   "source": [
    "### Reference\n",
    "\n",
    "https://colah.github.io/posts/2015-08-Understanding-LSTMs/\n",
    "\n",
    "https://machinelearningmastery.com/sequence-classification-lstm-recurrent-neural-networks-python-keras/\n",
    "\n",
    "https://www.guru99.com/stemming-lemmatization-python-nltk.html\n",
    "\n",
    "https://medium.com/@cristhianboujon/how-to-list-the-most-common-words-from-text-corpus-using-scikit-learn-dad4d0cab41d\n",
    "\n",
    "https://towardsdatascience.com/understanding-lstm-and-its-quick-implementation-in-keras-for-sentiment-analysis-af410fd85b47"
   ]
  }
 ],
 "metadata": {
  "kernelspec": {
   "display_name": "Python 3",
   "language": "python",
   "name": "python3"
  },
  "language_info": {
   "codemirror_mode": {
    "name": "ipython",
    "version": 3
   },
   "file_extension": ".py",
   "mimetype": "text/x-python",
   "name": "python",
   "nbconvert_exporter": "python",
   "pygments_lexer": "ipython3",
   "version": "3.7.3"
  }
 },
 "nbformat": 4,
 "nbformat_minor": 2
}
